{
 "cells": [
  {
   "cell_type": "code",
   "execution_count": 12,
   "metadata": {},
   "outputs": [],
   "source": [
    "import yfinance as yf\n",
    "import pandas as pd\n",
    "import matplotlib.pyplot as plt\n",
    "from datetime import datetime, timedelta\n"
   ]
  },
  {
   "cell_type": "code",
   "execution_count": 13,
   "metadata": {},
   "outputs": [
    {
     "name": "stderr",
     "output_type": "stream",
     "text": [
      "c:\\Python312\\Lib\\site-packages\\yfinance\\utils.py:775: FutureWarning: The 'unit' keyword in TimedeltaIndex construction is deprecated and will be removed in a future version. Use pd.to_timedelta instead.\n",
      "  df.index += _pd.TimedeltaIndex(dst_error_hours, 'h')\n",
      "[*********************100%%**********************]  1 of 1 completed\n"
     ]
    }
   ],
   "source": [
    "start_date = \"2022-01-01\"\n",
    "end_date   = \"2025-01-09\"  # ou str(datetime.now().date()) pour la date du jour\n",
    "\n",
    "# On récupère les données quotidiennes d’ETH/USD\n",
    "df = yf.download(\"ETH-USD\", start=start_date, end=end_date, interval='1d')\n",
    "\n",
    "# On ne garde que la colonne de clôture\n",
    "df = df[['Close']].rename(columns={'Close': 'price'})\n",
    "df.dropna(inplace=True)"
   ]
  },
  {
   "cell_type": "code",
   "execution_count": 14,
   "metadata": {},
   "outputs": [],
   "source": [
    "def simulate_dca(data, \n",
    "                 amount_usd,   # Montant investi à chaque fois (en USD, pour simplifier)\n",
    "                 fee_rate,     # Taux de frais (ex: 0.01 pour 1%)\n",
    "                 buy_dates):\n",
    "    \"\"\"\n",
    "    Calcule la quantité totale d'ETH accumulée en achetant 'amount_usd' à \n",
    "    chaque date dans 'buy_dates', avec 'fee_rate' comme frais.\n",
    "    data : DataFrame avec un index de type Date et une colonne 'price'\n",
    "    amount_usd : montant investi à chaque achat (avant frais)\n",
    "    fee_rate : proportion de frais (ex: 0.01 pour 1%)\n",
    "    buy_dates : iterable de dates où l'on achète\n",
    "    \"\"\"\n",
    "    total_eth = 0.0\n",
    "    total_invested = 0.0\n",
    "    \n",
    "    for buy_date in buy_dates:\n",
    "        if buy_date in data.index:\n",
    "            # Prix du jour\n",
    "            price = data.loc[buy_date, 'price']\n",
    "            \n",
    "            # Montant net après frais\n",
    "            net_amount = amount_usd * (1 - fee_rate)\n",
    "            \n",
    "            # ETH achetés ce jour-là\n",
    "            eth_bought = net_amount / price\n",
    "            \n",
    "            total_eth      += eth_bought\n",
    "            total_invested += amount_usd  # on compte la somme \"brute\" investie\n",
    "    \n",
    "    # Valeur finale du portefeuille = total_eth * prix du dernier jour de notre DataFrame\n",
    "    final_price = data['price'].iloc[-1]\n",
    "    final_value = total_eth * final_price\n",
    "    \n",
    "    return {\n",
    "        \"total_eth\": total_eth,\n",
    "        \"total_invested\": total_invested,\n",
    "        \"final_value\": final_value\n",
    "    }\n"
   ]
  },
  {
   "cell_type": "code",
   "execution_count": 15,
   "metadata": {},
   "outputs": [],
   "source": [
    "dates_scenario_achat_1mois = []\n",
    "current_date = pd.to_datetime(start_date)\n",
    "end_date_dt  = pd.to_datetime(end_date)\n",
    "\n",
    "while current_date <= end_date_dt:\n",
    "    # Si on est le 1er du mois\n",
    "    if current_date.day == 1:\n",
    "        dates_scenario_achat_1mois.append(current_date)\n",
    "    current_date += timedelta(days=1)\n",
    "\n",
    "results_scenario_achat_1mois = simulate_dca(\n",
    "    data=df, \n",
    "    amount_usd=500,  # 500 \"USD\"\n",
    "    fee_rate=0.01,   # 1% de frais\n",
    "    buy_dates=dates_scenario_achat_1mois\n",
    ")"
   ]
  },
  {
   "cell_type": "code",
   "execution_count": 16,
   "metadata": {},
   "outputs": [],
   "source": [
    "dates_scenario_achat_15jours = []\n",
    "current_date = pd.to_datetime(start_date)\n",
    "\n",
    "while current_date <= end_date_dt:\n",
    "    dates_scenario_achat_15jours.append(current_date)\n",
    "    current_date += timedelta(days=15)  # saut de 15 jours\n",
    "\n",
    "results_scenario_achat_15jours = simulate_dca(\n",
    "    data=df, \n",
    "    amount_usd=250,\n",
    "    fee_rate=0.01,   # 1% de frais\n",
    "    buy_dates=dates_scenario_achat_15jours\n",
    ")\n"
   ]
  },
  {
   "cell_type": "code",
   "execution_count": 17,
   "metadata": {},
   "outputs": [],
   "source": [
    "dates_scenario_achat_7jours = []\n",
    "current_date = pd.to_datetime(start_date)\n",
    "\n",
    "while current_date <= end_date_dt:\n",
    "    dates_scenario_achat_7jours.append(current_date)\n",
    "    current_date += timedelta(days=7)  # saut de 7 jours\n",
    "\n",
    "results_scenario_achat_7jours = simulate_dca(\n",
    "    data=df,\n",
    "    amount_usd=125,\n",
    "    fee_rate=0.01,\n",
    "    buy_dates=dates_scenario_achat_7jours\n",
    ")"
   ]
  },
  {
   "cell_type": "code",
   "execution_count": 18,
   "metadata": {},
   "outputs": [],
   "source": [
    "dates_scenario_achat_3jours = []\n",
    "current_date = pd.to_datetime(start_date)\n",
    "\n",
    "while current_date <= end_date_dt:\n",
    "    dates_scenario_achat_3jours.append(current_date)\n",
    "    current_date += timedelta(days=3)  # saut de 3 jours\n",
    "\n",
    "results_scenario_achat_3jours = simulate_dca(\n",
    "    data=df,\n",
    "    amount_usd=50,\n",
    "    fee_rate=0.01,\n",
    "    buy_dates=dates_scenario_achat_3jours\n",
    ")"
   ]
  },
  {
   "cell_type": "code",
   "execution_count": 19,
   "metadata": {},
   "outputs": [
    {
     "name": "stdout",
     "output_type": "stream",
     "text": [
      "=== SCÉNARIO_ACHAT_1MOIS (500 € / 1er du mois) ===\n",
      "Quantité d'ETH accumulée         : 8.8517\n",
      "Montant total investi (USD)      : 18500.00 $\n",
      "Valeur finale du portefeuille    : 29443.56 $\n",
      "\n",
      "=== SCÉNARIO_ACHAT_15JOURS (250 € / 15 jours) ===\n",
      "Quantité d'ETH accumulée         : 8.9856\n",
      "Montant total investi (USD)      : 18500.00 $\n",
      "Valeur finale du portefeuille    : 29889.17 $\n",
      "\n",
      "=== SCÉNARIO_ACHAT_7JOURS (125 € / semaine) ===\n",
      "Quantité d'ETH accumulée         : 9.6277\n",
      "Montant total investi (USD)      : 19750.00 $\n",
      "Valeur finale du portefeuille    : 32025.03 $\n",
      "\n",
      "=== SCÉNARIO_ACHAT_3JOURS (50 € / 3 jours) ===\n",
      "Quantité d'ETH accumulée         : 8.9657\n",
      "Montant total investi (USD)      : 18400.00 $\n",
      "Valeur finale du portefeuille    : 29822.80 $\n",
      "\n"
     ]
    },
    {
     "data": {
      "image/png": "[encoded data removed]",
      "text/plain": [
       "<Figure size 800x500 with 1 Axes>"
      ]
     },
     "metadata": {},
     "output_type": "display_data"
    }
   ],
   "source": [
    "# ------------------------------------------------------------------------------\n",
    "# 7. AFFICHAGE DES RÉSULTATS\n",
    "# ------------------------------------------------------------------------------\n",
    "print(\"=== SCÉNARIO_ACHAT_1MOIS (500 € / 1er du mois) ===\")\n",
    "print(f\"Quantité d'ETH accumulée         : {results_scenario_achat_1mois['total_eth']:.4f}\")\n",
    "print(f\"Montant total investi (USD)      : {results_scenario_achat_1mois['total_invested']:.2f} $\")\n",
    "print(f\"Valeur finale du portefeuille    : {results_scenario_achat_1mois['final_value']:.2f} $\\n\")\n",
    "\n",
    "print(\"=== SCÉNARIO_ACHAT_15JOURS (250 € / 15 jours) ===\")\n",
    "print(f\"Quantité d'ETH accumulée         : {results_scenario_achat_15jours['total_eth']:.4f}\")\n",
    "print(f\"Montant total investi (USD)      : {results_scenario_achat_15jours['total_invested']:.2f} $\")\n",
    "print(f\"Valeur finale du portefeuille    : {results_scenario_achat_15jours['final_value']:.2f} $\\n\")\n",
    "\n",
    "print(\"=== SCÉNARIO_ACHAT_7JOURS (125 € / semaine) ===\")\n",
    "print(f\"Quantité d'ETH accumulée         : {results_scenario_achat_7jours['total_eth']:.4f}\")\n",
    "print(f\"Montant total investi (USD)      : {results_scenario_achat_7jours['total_invested']:.2f} $\")\n",
    "print(f\"Valeur finale du portefeuille    : {results_scenario_achat_7jours['final_value']:.2f} $\\n\")\n",
    "\n",
    "print(\"=== SCÉNARIO_ACHAT_3JOURS (50 € / 3 jours) ===\")\n",
    "print(f\"Quantité d'ETH accumulée         : {results_scenario_achat_3jours['total_eth']:.4f}\")\n",
    "print(f\"Montant total investi (USD)      : {results_scenario_achat_3jours['total_invested']:.2f} $\")\n",
    "print(f\"Valeur finale du portefeuille    : {results_scenario_achat_3jours['final_value']:.2f} $\\n\")\n",
    "\n",
    "# ------------------------------------------------------------------------------\n",
    "# 8. ILLUSTRATION GRAPHIQUE (FACULTATIF)\n",
    "# ------------------------------------------------------------------------------\n",
    "results_df = pd.DataFrame({\n",
    "    \"scénario_achat_1mois\"  : [results_scenario_achat_1mois[\"final_value\"]],\n",
    "    \"scénario_achat_15jours\": [results_scenario_achat_15jours[\"final_value\"]],\n",
    "    \"scénario_achat_7jours\" : [results_scenario_achat_7jours[\"final_value\"]],\n",
    "    \"scénario_achat_3jours\" : [results_scenario_achat_3jours[\"final_value\"]]\n",
    "})\n",
    "\n",
    "results_df.plot(kind='bar', figsize=(8, 5))\n",
    "plt.title(\"Comparaison des valeurs finales pour chaque scénario DCA (ETH-USD)\")\n",
    "plt.ylabel(\"Valeur du portefeuille en USD\")\n",
    "plt.xticks([])\n",
    "plt.show()\n"
   ]
  }
 ],
 "metadata": {
  "kernelspec": {
   "display_name": "Python 3",
   "language": "python",
   "name": "python3"
  },
  "language_info": {
   "codemirror_mode": {
    "name": "ipython",
    "version": 3
   },
   "file_extension": ".py",
   "mimetype": "text/x-python",
   "name": "python",
   "nbconvert_exporter": "python",
   "pygments_lexer": "ipython3",
   "version": "3.12.2"
  }
 },
 "nbformat": 4,
 "nbformat_minor": 2
}
